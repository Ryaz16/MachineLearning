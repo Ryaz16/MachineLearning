{
 "cells": [
  {
   "cell_type": "markdown",
   "metadata": {},
   "source": [
    "Q1- Explain the following with an example:\n",
    "1) Artificial Intelligenc\n",
    "2) MachinK Learning\n",
    "3) Deep Learning\n",
    "\n",
    "AI : Smart application that can be perform any task without any human intervention. eg, robots,self driving cars.\n",
    "\n",
    "ML : ML is a subset of AI, its a stats tools to analysis, visualized, predicting the value and forecasting. eg, amazon,flipkart that recommended the product in sites.\n",
    "\n",
    "DL : DL is a subset of ML,mimic the human brain."
   ]
  },
  {
   "cell_type": "markdown",
   "metadata": {},
   "source": [
    "Q2- What is supervised learning? list some example of supervised learning.\n",
    "\n",
    "Supervised learning is a type of machine learning in which machine training the data that is well-labelled.\n",
    "\n",
    "eg: Predicting the house prices , fraud detection , image recognition "
   ]
  },
  {
   "cell_type": "markdown",
   "metadata": {},
   "source": [
    "Q3- What is unsupervised learning? list some example of unsupervised learning.\n",
    "\n",
    "Unsupervised learning is a type of machine learning in which a machine model training the dataset which is unlabelled.\n",
    "\n",
    "eg: find a face in an images."
   ]
  },
  {
   "cell_type": "markdown",
   "metadata": {},
   "source": [
    "Q4- What is the difference betwee AI,ML,DL and DS?\n",
    "\n",
    "AI is a computer algorithm which wxhibits intelligence though decision making.\n",
    "\n",
    "ML is a subset of AI which allows the system to learn from data.\n",
    "\n",
    "DL is a subset of ML algorithm that use deep networks to analyze data and provide output.\n",
    "\n",
    "DS is a combination of AI,ML,DL to analyze  the data and make predictions."
   ]
  },
  {
   "cell_type": "markdown",
   "metadata": {},
   "source": [
    "Q5- What are the main differences between supervised, unsupervised, and semi-supervised learning?\n",
    "\n",
    "supervised learning uses labelled data to learn a mapping between inputs and output for prediction or classification task.\n",
    "\n",
    "unsupervised learning works unlabelled data to discover pattern or relationship within the data.\n",
    "\n",
    "semi-supervised learning are the combination of supervised learning and unsupervised learning data to improve model performance and generalization."
   ]
  },
  {
   "cell_type": "markdown",
   "metadata": {},
   "source": [
    "Q6- What is train, test and validation split? Explain the importance of each term."
   ]
  },
  {
   "cell_type": "markdown",
   "metadata": {},
   "source": [
    "Q7- How can unsupervised learning be used in anomaly detection?\n",
    "\n",
    "Anomaly detection techiques of unsupervised nature assume that normal data points occurs considerably more frequently that anomalous data points.unsupervised technique assign each data point ascore instead of a label."
   ]
  },
  {
   "cell_type": "markdown",
   "metadata": {},
   "source": [
    "Q8- List down some commonly used supervised learning algorithms and unsupervised learning\n",
    "algorithms.\n",
    "\n",
    "supervised learning : Linear Regression,logistic Regression,support vector machine , decision tree , random forest.\n",
    "\n",
    "usupervised learning : k-Mean clustering , hierarchical clustering"
   ]
  }
 ],
 "metadata": {
  "kernelspec": {
   "display_name": "Python 3",
   "language": "python",
   "name": "python3"
  },
  "language_info": {
   "name": "python",
   "version": "3.11.3"
  },
  "orig_nbformat": 4
 },
 "nbformat": 4,
 "nbformat_minor": 2
}
