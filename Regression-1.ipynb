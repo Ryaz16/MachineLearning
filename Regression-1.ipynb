{
 "cells": [
  {
   "cell_type": "markdown",
   "metadata": {},
   "source": [
    "Q1. Explain the difference between simple linear regression and multiple linear regression. Provide an\n",
    "example of each.\n",
    "\n",
    "simple linear regression: In SMR one independent and one dependent variable \n",
    "\n",
    "multiple linear regression: In MLR  more than one variable "
   ]
  },
  {
   "cell_type": "markdown",
   "metadata": {},
   "source": [
    "Q2. Discuss the assumptions of linear regression. How can you check whether these assumptions hold in\n",
    "a given dataset?\n",
    "\n",
    "There are four main assumption Linearity, Independence , Homoscedasticity, Normality of Residuals.\n",
    "\n",
    "1. There is a linear relationship between the independent variable (x) and dependent variable(y)\n",
    "\n",
    "2. Prediction(x) are independent and observed with negligible error\n",
    "\n",
    "3. Residual error have a mean value of zero\n",
    " "
   ]
  },
  {
   "cell_type": "markdown",
   "metadata": {},
   "source": [
    "Q3. How do you interpret the slope and intercept in a linear regression model? Provide an example using\n",
    "a real-world scenario.\n",
    "\n",
    "In Simple Linear regression  the model is represented by the equation :\n",
    " y= mx + c\n",
    "\n",
    " where, y-dependent variable , x- independent variable , m- slope of coefficient, c- intercept "
   ]
  },
  {
   "cell_type": "markdown",
   "metadata": {},
   "source": [
    "Q4. Explain the concept of gradient descent. How is it used in machine learning?\n",
    "\n",
    "Gradient decent is noe of the most commonly used iteretive optimization algorithms of machine learnig to train ML model and neural networks.\n",
    "\n",
    "Training data help these model learn over time and the cost function within gradient desent."
   ]
  },
  {
   "cell_type": "markdown",
   "metadata": {},
   "source": [
    "Q5. Describe the multiple linear regression model. How does it differ from simple linear regression?\n",
    "\n",
    "In multiple linear regression model more than one variable while in simple linear regression is only one independent variable and one dependent variable."
   ]
  },
  {
   "cell_type": "markdown",
   "metadata": {},
   "source": [
    "Q6. Explain the concept of multicollinearity in multiple linear regression. How can you detect and\n",
    "address this issue?\n",
    "\n",
    "Multicollinearity occurs when two or more independent variable in a data frame have a high correlation with one another in a regression model.\n",
    "\n",
    "This mean that one independent variable can be  predicted from one another in a regression model."
   ]
  },
  {
   "cell_type": "markdown",
   "metadata": {},
   "source": [
    "Q7. Describe the polynomial regression model. How is it different from linear regression?\n",
    "\n",
    "In polynomial regression, the relationship is modeled using polynomial equations of higher degrees, \n",
    "the general equation for polynomial regression of degree n is \n",
    "\n",
    "y = m0+ m1x+ m2x^2+.....+mnx^n+c"
   ]
  }
 ],
 "metadata": {
  "language_info": {
   "name": "python"
  },
  "orig_nbformat": 4
 },
 "nbformat": 4,
 "nbformat_minor": 2
}
